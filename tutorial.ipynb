{
 "cells": [
  {
   "cell_type": "code",
   "execution_count": 6,
   "metadata": {},
   "outputs": [],
   "source": [
    "from numpy import ones_like, mgrid, sqrt\n",
    "\n",
    "from pysph.base.utils import get_particle_array\n",
    "from pysph.solver.application import Application\n",
    "from pysph.sph.scheme import WCSPHScheme"
   ]
  },
  {
   "cell_type": "code",
   "execution_count": 7,
   "metadata": {},
   "outputs": [],
   "source": [
    "class EllipticalDrop(Application):\n",
    "    # ...\n",
    "    def create_particles(self):\n",
    "        \"\"\"Create the circular patch of fluid.\"\"\"\n",
    "        dx = self.dx\n",
    "        hdx = self.hdx\n",
    "        ro = self.ro\n",
    "        name = 'fluid'\n",
    "        x, y = mgrid[-1.05:1.05+1e-4:dx, -1.05:1.05+1e-4:dx]\n",
    "        x = x.ravel()\n",
    "        y = y.ravel()\n",
    "\n",
    "        m = ones_like(x)*dx*dx\n",
    "        h = ones_like(x)*hdx*dx\n",
    "        rho = ones_like(x) * ro\n",
    "        u = -100*x\n",
    "        v = 100*y\n",
    "\n",
    "        # remove particles outside the circle\n",
    "        indices = []\n",
    "        for i in range(len(x)):\n",
    "            if sqrt(x[i]*x[i] + y[i]*y[i]) - 1 > 1e-10:\n",
    "                indices.append(i)\n",
    "\n",
    "        pa = get_particle_array(x=x, y=y, m=m, rho=rho, h=h, u=u, v=v,\n",
    "                                name=name)\n",
    "        pa.remove_particles(indices)\n",
    "\n",
    "        print(\"Elliptical drop :: %d particles\"\n",
    "              % (pa.get_number_of_particles()))\n",
    "\n",
    "        self.scheme.setup_properties([pa])\n",
    "        return [pa]"
   ]
  },
  {
   "cell_type": "code",
   "execution_count": 3,
   "metadata": {},
   "outputs": [],
   "source": [
    "def create_equations(self):\n",
    "    equations = [\n",
    "        Group(equations=[\n",
    "            TaitEOS(dest='fluid', sources=None, rho0=self.ro,\n",
    "                    c0=self.co, gamma=7.0),\n",
    "        ], real=False),\n",
    "\n",
    "        Group(equations=[\n",
    "            ContinuityEquation(dest='fluid',  sources=['fluid',]),\n",
    "\n",
    "            MomentumEquation(dest='fluid', sources=['fluid'],\n",
    "                             alpha=self.alpha, beta=0.0, c0=self.co),\n",
    "\n",
    "            XSPHCorrection(dest='fluid', sources=['fluid']),\n",
    "\n",
    "        ]),\n",
    "    ]\n",
    "    return equations\n"
   ]
  },
  {
   "cell_type": "code",
   "execution_count": 9,
   "metadata": {
    "scrolled": false
   },
   "outputs": [
    {
     "name": "stdout",
     "output_type": "stream",
     "text": [
      "Running example pysph.examples.elliptical_drop_simple.\n",
      "\n",
      "Information for example: pysph.examples.elliptical_drop_simple\n",
      "Evolution of a circular patch of incompressible fluid. (30 seconds)\n",
      "\n",
      "This is the simplest implementation using existing schemes.\n",
      "\n",
      "See J. J. Monaghan \"Simulating Free Surface Flows with SPH\", JCP, 1994, 100, pp\n",
      "399 - 406\n",
      "Elliptical drop :: 5025 particles\n",
      "Generating output in /usr/src/app/pysph/elliptical_drop_simple_output\n",
      "Compiling code at: /root/.pysph/source/py3.9-linux-x86_64/m_30bb3da0068142637bd63ff68cf26310.pyx\n",
      "No of particles:\n",
      "----------------------------------------------------------------------\n",
      "  fluid: 5025\n",
      "----------------------------------------------------------------------\n",
      "Setup took: 10.62624 secs\n",
      "100%\n",
      "Run took: 11.79780 secs\n"
     ]
    }
   ],
   "source": [
    "!pysph run elliptical_drop_simple --tf=0.005"
   ]
  },
  {
   "cell_type": "code",
   "execution_count": null,
   "metadata": {},
   "outputs": [],
   "source": []
  }
 ],
 "metadata": {
  "kernelspec": {
   "display_name": "Python 3",
   "language": "python",
   "name": "python3"
  },
  "language_info": {
   "codemirror_mode": {
    "name": "ipython",
    "version": 3
   },
   "file_extension": ".py",
   "mimetype": "text/x-python",
   "name": "python",
   "nbconvert_exporter": "python",
   "pygments_lexer": "ipython3",
   "version": "3.9.0"
  }
 },
 "nbformat": 4,
 "nbformat_minor": 4
}
